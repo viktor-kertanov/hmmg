{
 "cells": [
  {
   "cell_type": "code",
   "execution_count": 278,
   "metadata": {},
   "outputs": [],
   "source": [
    "import numpy as np\n",
    "import matplotlib.pyplot as plt"
   ]
  },
  {
   "cell_type": "code",
   "execution_count": 279,
   "metadata": {},
   "outputs": [],
   "source": [
    "color_list = [\n",
    "    'blue',\n",
    "    'green',\n",
    "    'red',\n",
    "    'cyan',\n",
    "    'magenta',\n",
    "    'yellow',\n",
    "    'black',\n",
    "    'orange',\n",
    "    'purple',\n",
    "    'pink'\n",
    "]\n",
    "num_lines = 1\n",
    "canvas_w = 800\n",
    "canvas_h = 600\n",
    "critical_points = [(0, 0), (0, canvas_h), (canvas_w, canvas_h), (canvas_w, 0)]\n",
    "critical_x = [p[0] for p in critical_points] + [critical_points[0][0]]\n",
    "critical_y = [p[1] for p in critical_points] + [critical_points[0][1]]"
   ]
  },
  {
   "cell_type": "code",
   "execution_count": 304,
   "metadata": {},
   "outputs": [],
   "source": [
    "# Let's write the function that can define m coefficient\n",
    "\n",
    "def find_m(angle_rad: float, point: tuple[float]) -> float:\n",
    "    y_coord = point[1]\n",
    "    x_coord = point[0]\n",
    "\n",
    "\n",
    "    return y_coord - np.tan(angle_rad)*x_coord"
   ]
  },
  {
   "cell_type": "code",
   "execution_count": 319,
   "metadata": {},
   "outputs": [
    {
     "name": "stdout",
     "output_type": "stream",
     "text": [
      "4.0\n",
      "75.96375653207353\n"
     ]
    }
   ],
   "source": [
    "angle = 75.96375653207353\n",
    "angle_rad = np.deg2rad(angle)\n",
    "tan_angle = np.round(np.tan(angle_rad),4)\n",
    "\n",
    "\n",
    "print(tan_angle)\n",
    "print(np.rad2deg(np.arctan(4)))\n",
    "\n"
   ]
  },
  {
   "cell_type": "code",
   "execution_count": 280,
   "metadata": {},
   "outputs": [],
   "source": [
    "random_angles = np.random.rand(num_lines)*2*np.pi"
   ]
  },
  {
   "cell_type": "code",
   "execution_count": null,
   "metadata": {},
   "outputs": [],
   "source": []
  },
  {
   "cell_type": "code",
   "execution_count": 303,
   "metadata": {},
   "outputs": [
    {
     "name": "stdout",
     "output_type": "stream",
     "text": [
      "Tan angle: -3.0956805544037467. Rad: 5.024838727166204. Deg: 287.902051800512\n",
      "Point: (0, 0)\n",
      "M: 0.0\n",
      "0.0\n",
      "Point: (0, 600)\n",
      "M: 600.0\n",
      "0.0\n",
      "Point: (800, 600)\n",
      "M: 3076.5444435229974\n",
      "0.0\n",
      "Point: (800, 0)\n",
      "M: 2476.5444435229974\n",
      "0.0\n"
     ]
    }
   ],
   "source": [
    "# we have to define m coef: y = kx + m; m = y - kx\n",
    "\n",
    "m_dict = {}\n",
    "m_dict_max_min = {}\n",
    "for angle in random_angles:\n",
    "    print(f'Tan angle: {np.tan(angle)}. Rad: {angle}. Deg: {np.rad2deg(angle)}')\n",
    "    for point in critical_points:\n",
    "        m = point[1] - (np.tan(angle) * point[0])\n",
    "        print(f'Point: {point}')\n",
    "        print(f'M: {m}')\n",
    "        print(f'{(np.tan(angle) * point[0])+m - point[1]}')\n",
    "\n",
    "\n",
    "    m_coefs = [point[1] - np.tan(angle) * point[0] for point in critical_points]\n",
    "    m_dict[angle] = m_coefs\n",
    "    m_dict_max_min[angle] = [min(m_coefs), max(m_coefs)]\n",
    "\n",
    "\n",
    "\n"
   ]
  },
  {
   "cell_type": "code",
   "execution_count": 282,
   "metadata": {},
   "outputs": [
    {
     "data": {
      "text/plain": [
       "{5.024838727166204: [0.0, 3076.5444435229974]}"
      ]
     },
     "execution_count": 282,
     "metadata": {},
     "output_type": "execute_result"
    }
   ],
   "source": [
    "m_dict_max_min"
   ]
  },
  {
   "cell_type": "code",
   "execution_count": 283,
   "metadata": {},
   "outputs": [
    {
     "data": {
      "text/plain": [
       "{5.024838727166204: [0.0, 600.0, 3076.5444435229974, 2476.5444435229974]}"
      ]
     },
     "execution_count": 283,
     "metadata": {},
     "output_type": "execute_result"
    }
   ],
   "source": [
    "m_dict"
   ]
  },
  {
   "cell_type": "code",
   "execution_count": 302,
   "metadata": {},
   "outputs": [
    {
     "name": "stdout",
     "output_type": "stream",
     "text": [
      "Critical point: (0, 0)\n",
      "0.0\n",
      "Equation: 0.0\n",
      "Critical point: (0, 600)\n",
      "600.0\n",
      "Equation: 0.0\n",
      "Critical point: (800, 600)\n",
      "3076.5444435229974\n",
      "Equation: 6496.41542525596\n",
      "Critical point: (800, 0)\n",
      "2476.5444435229974\n",
      "Equation: 6496.41542525596\n"
     ]
    }
   ],
   "source": [
    "for idx, tan_angle in enumerate(m_dict):\n",
    "    for cr_idx, critical_point in enumerate(critical_points):\n",
    "        print(f'Critical point: {critical_point}')\n",
    "        cur_x = critical_point[0]\n",
    "        cur_y = critical_point[1]\n",
    "        print(m_dict[tan_angle][cr_idx])\n",
    "        print(f'Equation: {tan_angle*cur_x + m_dict[tan_angle][cr_idx]-cur_y}')\n",
    "\n"
   ]
  },
  {
   "cell_type": "code",
   "execution_count": 290,
   "metadata": {},
   "outputs": [
    {
     "name": "stdout",
     "output_type": "stream",
     "text": [
      "Cur x: 0. Cur y: 0.0\n",
      "Cur x: 0. Cur y: 600.0\n",
      "Cur x: 800. Cur y: 7096.41542525596\n",
      "Cur x: 800. Cur y: 6496.41542525596\n"
     ]
    },
    {
     "data": {
      "image/png": "[encoded data removed]",
      "text/plain": [
       "<Figure size 640x480 with 1 Axes>"
      ]
     },
     "metadata": {},
     "output_type": "display_data"
    }
   ],
   "source": [
    "plt.plot([-canvas_w*10, canvas_w*10], [0,0], 'k-', alpha=.5, linewidth=2)\n",
    "plt.plot([0,0], [-canvas_h*10, canvas_h*10], 'k-', alpha=.5, linewidth=2)\n",
    "plt.plot(critical_x, critical_y)\n",
    "\n",
    "delta = 300000\n",
    "for tan_angle_idx, tan_angle in enumerate(m_dict):\n",
    "    for m_idx, m in enumerate(m_dict[tan_angle]):\n",
    "        central_point = critical_points[m_idx]\n",
    "        cur_x = central_point[0]\n",
    "        cur_y = central_point[1]\n",
    "        print(f'Cur x: {cur_x}. Cur y: {tan_angle*cur_x+m}')\n",
    "        plt.plot([cur_x], [tan_angle*cur_x+m], color='r')\n",
    "\n",
    "\n",
    "plt.gca().set_aspect('equal')\n",
    "# plt.axis([-canvas_w*1.1, canvas_w*1.1, -canvas_h*1.1, canvas_h*1.1])\n",
    "plt.show()"
   ]
  }
 ],
 "metadata": {
  "kernelspec": {
   "display_name": "env",
   "language": "python",
   "name": "python3"
  },
  "language_info": {
   "codemirror_mode": {
    "name": "ipython",
    "version": 3
   },
   "file_extension": ".py",
   "mimetype": "text/x-python",
   "name": "python",
   "nbconvert_exporter": "python",
   "pygments_lexer": "ipython3",
   "version": "3.11.1"
  },
  "orig_nbformat": 4
 },
 "nbformat": 4,
 "nbformat_minor": 2
}
