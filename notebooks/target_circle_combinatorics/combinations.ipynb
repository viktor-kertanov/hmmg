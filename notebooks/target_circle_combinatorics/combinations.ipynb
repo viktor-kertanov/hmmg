{
 "cells": [
  {
   "cell_type": "code",
   "execution_count": 5,
   "metadata": {},
   "outputs": [],
   "source": [
    "import numpy as np\n",
    "import matplotlib.pyplot as plt\n",
    "from itertools import combinations, permutations\n",
    "import random"
   ]
  },
  {
   "cell_type": "code",
   "execution_count": 2,
   "metadata": {},
   "outputs": [],
   "source": [
    "color_data = {\n",
    "    'maroon': 1,\n",
    "    'darkorange': 2,\n",
    "    'yellow': 3,\n",
    "    'forestgreen': 4,\n",
    "    'deepskyblue': 5,\n",
    "    'blue': 6,\n",
    "    'darkviolet': 7,\n",
    "    'cyan': 8,\n",
    "    'crimson': 9, \n",
    "    'black': 10,\n",
    "    'dodgerblue': 11,\n",
    "    'deeppink': 12,\n",
    "    'teal': 13,\n",
    "    'olive': 14,\n",
    "    'fuchsia': 15,\n",
    "    'khaki': 16\n",
    "    }"
   ]
  },
  {
   "cell_type": "code",
   "execution_count": 3,
   "metadata": {},
   "outputs": [],
   "source": [
    "c_batch_1 = {\n",
    "    'deepskyblue': 5,\n",
    "    'blue': 6,\n",
    "    'darkviolet': 7,\n",
    "    'cyan': 8,\n",
    "}\n",
    "\n",
    "c_batch_2 = {\n",
    "    'maroon': 1,\n",
    "    'darkorange': 2,\n",
    "    'yellow': 3,\n",
    "    'crimson': 9, \n",
    "}"
   ]
  },
  {
   "cell_type": "code",
   "execution_count": 8,
   "metadata": {},
   "outputs": [
    {
     "name": "stdout",
     "output_type": "stream",
     "text": [
      "['cyan', 'blue', 'deepskyblue', 'darkviolet']\n",
      "['darkviolet', 'cyan', 'deepskyblue', 'blue']\n",
      "['darkviolet', 'cyan', 'blue', 'deepskyblue']\n",
      "['cyan', 'deepskyblue', 'darkviolet', 'blue']\n",
      "['blue', 'darkviolet', 'deepskyblue', 'cyan']\n",
      "['deepskyblue', 'blue', 'cyan', 'darkviolet']\n",
      "['blue', 'deepskyblue', 'cyan', 'darkviolet']\n",
      "['darkviolet', 'blue', 'deepskyblue', 'cyan']\n",
      "['darkviolet', 'blue', 'cyan', 'deepskyblue']\n",
      "['deepskyblue', 'blue', 'darkviolet', 'cyan']\n",
      "['darkviolet', 'deepskyblue', 'blue', 'cyan']\n",
      "['blue', 'deepskyblue', 'darkviolet', 'cyan']\n",
      "['darkviolet', 'deepskyblue', 'cyan', 'blue']\n",
      "['cyan', 'deepskyblue', 'blue', 'darkviolet']\n",
      "['deepskyblue', 'cyan', 'blue', 'darkviolet']\n",
      "['blue', 'cyan', 'deepskyblue', 'darkviolet']\n",
      "['cyan', 'blue', 'darkviolet', 'deepskyblue']\n",
      "['cyan', 'darkviolet', 'deepskyblue', 'blue']\n",
      "['deepskyblue', 'darkviolet', 'blue', 'cyan']\n",
      "['blue', 'cyan', 'darkviolet', 'deepskyblue']\n",
      "['cyan', 'darkviolet', 'blue', 'deepskyblue']\n",
      "['deepskyblue', 'darkviolet', 'cyan', 'blue']\n",
      "['blue', 'darkviolet', 'cyan', 'deepskyblue']\n",
      "['deepskyblue', 'cyan', 'darkviolet', 'blue']\n"
     ]
    }
   ],
   "source": [
    "def permutated_colors(color_batch: dict, r: int = None) -> list[list]:\n",
    "    if not r:\n",
    "        r = len(color_batch)\n",
    "    c_1 = list(color_batch.keys())\n",
    "\n",
    "    color_combos_1 = list(permutations(c_1, r=r))\n",
    "    random.shuffle(color_combos_1)\n",
    "\n",
    "    return [list(el) for el in color_combos_1]\n",
    "\n"
   ]
  }
 ],
 "metadata": {
  "kernelspec": {
   "display_name": "env",
   "language": "python",
   "name": "python3"
  },
  "language_info": {
   "codemirror_mode": {
    "name": "ipython",
    "version": 3
   },
   "file_extension": ".py",
   "mimetype": "text/x-python",
   "name": "python",
   "nbconvert_exporter": "python",
   "pygments_lexer": "ipython3",
   "version": "3.10.0"
  },
  "orig_nbformat": 4
 },
 "nbformat": 4,
 "nbformat_minor": 2
}
